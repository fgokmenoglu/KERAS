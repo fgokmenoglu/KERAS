{
  "nbformat": 4,
  "nbformat_minor": 0,
  "metadata": {
    "colab": {
      "name": "Keras_Ex1.ipynb",
      "provenance": [],
      "collapsed_sections": [],
      "authorship_tag": "ABX9TyNxK2zOqHnNVW0CmuEO4gFL",
      "include_colab_link": true
    },
    "kernelspec": {
      "name": "python3",
      "display_name": "Python 3"
    },
    "language_info": {
      "name": "python"
    }
  },
  "cells": [
    {
      "cell_type": "markdown",
      "metadata": {
        "id": "view-in-github",
        "colab_type": "text"
      },
      "source": [
        "<a href=\"https://colab.research.google.com/github/fgokmenoglu/KERAS/blob/main/Keras_Ex1.ipynb\" target=\"_parent\"><img src=\"https://colab.research.google.com/assets/colab-badge.svg\" alt=\"Open In Colab\"/></a>"
      ]
    },
    {
      "cell_type": "code",
      "execution_count": null,
      "metadata": {
        "id": "M2aB98XKz5V-"
      },
      "outputs": [],
      "source": [
        "import numpy as np\n",
        "from random import randint\n",
        "from sklearn.utils import shuffle\n",
        "from sklearn.preprocessing import MinMaxScaler"
      ]
    },
    {
      "cell_type": "code",
      "source": [
        "train_labels = []\n",
        "train_samples = []"
      ],
      "metadata": {
        "id": "_V2lAXX9ATou"
      },
      "execution_count": null,
      "outputs": []
    },
    {
      "cell_type": "code",
      "source": [
        "for i in range(50):\n",
        "  random_younger = randint(13, 64)\n",
        "  train_samples.append(random_younger)\n",
        "  train_labels.append(1)\n",
        "\n",
        "  random_older = randint(65, 100)\n",
        "  train_samples.append(random_older)\n",
        "  train_labels.append(0)\n",
        "\n",
        "for i in range(1000):\n",
        "  random_younger = randint(13, 64)\n",
        "  train_samples.append(random_younger)\n",
        "  train_labels.append(0)\n",
        "\n",
        "  random_older = randint(65, 100)\n",
        "  train_samples.append(random_older)\n",
        "  train_labels.append(1)"
      ],
      "metadata": {
        "id": "YF-MLtxYAapP"
      },
      "execution_count": null,
      "outputs": []
    },
    {
      "cell_type": "code",
      "source": [
        "train_labels = np.array(train_labels)\n",
        "train_samples = np.array(train_samples)"
      ],
      "metadata": {
        "id": "AL_hVajoAyjU"
      },
      "execution_count": null,
      "outputs": []
    },
    {
      "cell_type": "code",
      "source": [
        "train_labels, train_samples = shuffle(train_labels, train_samples)"
      ],
      "metadata": {
        "id": "Zc7KwicIA53j"
      },
      "execution_count": null,
      "outputs": []
    },
    {
      "cell_type": "code",
      "source": [
        "scaler = MinMaxScaler(feature_range=(0, 1))\n",
        "scaled_train_samples = scaler.fit_transform(train_samples.reshape(-1, 1))"
      ],
      "metadata": {
        "id": "VUUqcwvGBBwi"
      },
      "execution_count": null,
      "outputs": []
    },
    {
      "cell_type": "code",
      "source": [
        "import tensorflow as tf\n",
        "from tensorflow import keras\n",
        "from tensorflow.keras.models import Sequential\n",
        "from tensorflow.keras.layers import Activation, Dense\n",
        "from tensorflow.keras.optimizers import Adam\n",
        "from tensorflow.keras.metrics import categorical_crossentropy"
      ],
      "metadata": {
        "id": "6VqC7V8ZBR4H"
      },
      "execution_count": null,
      "outputs": []
    },
    {
      "cell_type": "code",
      "source": [
        "physical_devices = tf.config.experimental.list_physical_devices('GPU')\n",
        "print(\"Number of GPUs Available: \", len(physical_devices))"
      ],
      "metadata": {
        "colab": {
          "base_uri": "https://localhost:8080/"
        },
        "id": "D-ex1-TtBpat",
        "outputId": "1871190b-9b8a-4497-f902-b1fa0334a269"
      },
      "execution_count": null,
      "outputs": [
        {
          "output_type": "stream",
          "name": "stdout",
          "text": [
            "Number of GPUs Available:  0\n"
          ]
        }
      ]
    },
    {
      "cell_type": "code",
      "source": [
        "model = Sequential([\n",
        "  Dense(units = 16, input_shape = (1, ), activation = 'relu'),\n",
        "  Dense(units = 32, activation = 'relu'),\n",
        "  Dense(units = 2, activation = 'softmax')\n",
        "])"
      ],
      "metadata": {
        "id": "xUJmJErXB6Dc"
      },
      "execution_count": null,
      "outputs": []
    },
    {
      "cell_type": "code",
      "source": [
        "model.summary()"
      ],
      "metadata": {
        "colab": {
          "base_uri": "https://localhost:8080/"
        },
        "id": "x78YO5tnCPEN",
        "outputId": "abca4d0c-fb46-4fba-8abc-e9e78b94e445"
      },
      "execution_count": null,
      "outputs": [
        {
          "output_type": "stream",
          "name": "stdout",
          "text": [
            "Model: \"sequential\"\n",
            "_________________________________________________________________\n",
            " Layer (type)                Output Shape              Param #   \n",
            "=================================================================\n",
            " dense (Dense)               (None, 16)                32        \n",
            "                                                                 \n",
            " dense_1 (Dense)             (None, 32)                544       \n",
            "                                                                 \n",
            " dense_2 (Dense)             (None, 2)                 66        \n",
            "                                                                 \n",
            "=================================================================\n",
            "Total params: 642\n",
            "Trainable params: 642\n",
            "Non-trainable params: 0\n",
            "_________________________________________________________________\n"
          ]
        }
      ]
    },
    {
      "cell_type": "code",
      "source": [
        "model.compile(optimizer=Adam(learning_rate=0.0001), loss='sparse_categorical_crossentropy', metrics=['accuracy'])"
      ],
      "metadata": {
        "id": "Z2Surn6eCRPv"
      },
      "execution_count": null,
      "outputs": []
    },
    {
      "cell_type": "code",
      "source": [
        "model.fit(x=scaled_train_samples, y=train_labels, validation_split=0.1, batch_size=10, epochs=30, shuffle=True, verbose=2)"
      ],
      "metadata": {
        "colab": {
          "base_uri": "https://localhost:8080/"
        },
        "id": "nbmMAUdiCiWz",
        "outputId": "e4c0d76f-b81f-42ac-c32a-0a3e7c8d76c5"
      },
      "execution_count": null,
      "outputs": [
        {
          "output_type": "stream",
          "name": "stdout",
          "text": [
            "Epoch 1/30\n",
            "189/189 - 1s - loss: 0.7678 - accuracy: 0.4418 - val_loss: 0.7267 - val_accuracy: 0.4476 - 1s/epoch - 6ms/step\n",
            "Epoch 2/30\n",
            "189/189 - 0s - loss: 0.7153 - accuracy: 0.3598 - val_loss: 0.6910 - val_accuracy: 0.5095 - 343ms/epoch - 2ms/step\n",
            "Epoch 3/30\n",
            "189/189 - 0s - loss: 0.6654 - accuracy: 0.7249 - val_loss: 0.6524 - val_accuracy: 0.7048 - 356ms/epoch - 2ms/step\n",
            "Epoch 4/30\n",
            "189/189 - 0s - loss: 0.6189 - accuracy: 0.7857 - val_loss: 0.6196 - val_accuracy: 0.7190 - 333ms/epoch - 2ms/step\n",
            "Epoch 5/30\n",
            "189/189 - 0s - loss: 0.5820 - accuracy: 0.8159 - val_loss: 0.5940 - val_accuracy: 0.7667 - 337ms/epoch - 2ms/step\n",
            "Epoch 6/30\n",
            "189/189 - 0s - loss: 0.5523 - accuracy: 0.8434 - val_loss: 0.5721 - val_accuracy: 0.7762 - 381ms/epoch - 2ms/step\n",
            "Epoch 7/30\n",
            "189/189 - 0s - loss: 0.5242 - accuracy: 0.8593 - val_loss: 0.5496 - val_accuracy: 0.8000 - 346ms/epoch - 2ms/step\n",
            "Epoch 8/30\n",
            "189/189 - 0s - loss: 0.4967 - accuracy: 0.8683 - val_loss: 0.5283 - val_accuracy: 0.8095 - 280ms/epoch - 1ms/step\n",
            "Epoch 9/30\n",
            "189/189 - 0s - loss: 0.4707 - accuracy: 0.8852 - val_loss: 0.5086 - val_accuracy: 0.8190 - 287ms/epoch - 2ms/step\n",
            "Epoch 10/30\n",
            "189/189 - 0s - loss: 0.4458 - accuracy: 0.8968 - val_loss: 0.4926 - val_accuracy: 0.8286 - 305ms/epoch - 2ms/step\n",
            "Epoch 11/30\n",
            "189/189 - 0s - loss: 0.4228 - accuracy: 0.8963 - val_loss: 0.4763 - val_accuracy: 0.8381 - 316ms/epoch - 2ms/step\n",
            "Epoch 12/30\n",
            "189/189 - 0s - loss: 0.4017 - accuracy: 0.9079 - val_loss: 0.4637 - val_accuracy: 0.8381 - 288ms/epoch - 2ms/step\n",
            "Epoch 13/30\n",
            "189/189 - 0s - loss: 0.3829 - accuracy: 0.9095 - val_loss: 0.4532 - val_accuracy: 0.8381 - 321ms/epoch - 2ms/step\n",
            "Epoch 14/30\n",
            "189/189 - 0s - loss: 0.3663 - accuracy: 0.9143 - val_loss: 0.4443 - val_accuracy: 0.8429 - 324ms/epoch - 2ms/step\n",
            "Epoch 15/30\n",
            "189/189 - 0s - loss: 0.3519 - accuracy: 0.9164 - val_loss: 0.4390 - val_accuracy: 0.8381 - 286ms/epoch - 2ms/step\n",
            "Epoch 16/30\n",
            "189/189 - 0s - loss: 0.3393 - accuracy: 0.9169 - val_loss: 0.4326 - val_accuracy: 0.8429 - 321ms/epoch - 2ms/step\n",
            "Epoch 17/30\n",
            "189/189 - 0s - loss: 0.3285 - accuracy: 0.9185 - val_loss: 0.4280 - val_accuracy: 0.8429 - 282ms/epoch - 1ms/step\n",
            "Epoch 18/30\n",
            "189/189 - 0s - loss: 0.3190 - accuracy: 0.9217 - val_loss: 0.4257 - val_accuracy: 0.8429 - 272ms/epoch - 1ms/step\n",
            "Epoch 19/30\n",
            "189/189 - 0s - loss: 0.3111 - accuracy: 0.9190 - val_loss: 0.4225 - val_accuracy: 0.8571 - 323ms/epoch - 2ms/step\n",
            "Epoch 20/30\n",
            "189/189 - 0s - loss: 0.3043 - accuracy: 0.9243 - val_loss: 0.4203 - val_accuracy: 0.8571 - 312ms/epoch - 2ms/step\n",
            "Epoch 21/30\n",
            "189/189 - 0s - loss: 0.2983 - accuracy: 0.9259 - val_loss: 0.4202 - val_accuracy: 0.8571 - 281ms/epoch - 1ms/step\n",
            "Epoch 22/30\n",
            "189/189 - 0s - loss: 0.2932 - accuracy: 0.9254 - val_loss: 0.4215 - val_accuracy: 0.8429 - 289ms/epoch - 2ms/step\n",
            "Epoch 23/30\n",
            "189/189 - 0s - loss: 0.2888 - accuracy: 0.9254 - val_loss: 0.4207 - val_accuracy: 0.8571 - 306ms/epoch - 2ms/step\n",
            "Epoch 24/30\n",
            "189/189 - 0s - loss: 0.2851 - accuracy: 0.9254 - val_loss: 0.4199 - val_accuracy: 0.8571 - 278ms/epoch - 1ms/step\n",
            "Epoch 25/30\n",
            "189/189 - 0s - loss: 0.2816 - accuracy: 0.9249 - val_loss: 0.4193 - val_accuracy: 0.8571 - 292ms/epoch - 2ms/step\n",
            "Epoch 26/30\n",
            "189/189 - 0s - loss: 0.2788 - accuracy: 0.9280 - val_loss: 0.4199 - val_accuracy: 0.8571 - 314ms/epoch - 2ms/step\n",
            "Epoch 27/30\n",
            "189/189 - 0s - loss: 0.2761 - accuracy: 0.9328 - val_loss: 0.4225 - val_accuracy: 0.8571 - 328ms/epoch - 2ms/step\n",
            "Epoch 28/30\n",
            "189/189 - 0s - loss: 0.2738 - accuracy: 0.9259 - val_loss: 0.4221 - val_accuracy: 0.8571 - 301ms/epoch - 2ms/step\n",
            "Epoch 29/30\n",
            "189/189 - 0s - loss: 0.2718 - accuracy: 0.9328 - val_loss: 0.4228 - val_accuracy: 0.8571 - 350ms/epoch - 2ms/step\n",
            "Epoch 30/30\n",
            "189/189 - 0s - loss: 0.2698 - accuracy: 0.9280 - val_loss: 0.4224 - val_accuracy: 0.8714 - 316ms/epoch - 2ms/step\n"
          ]
        },
        {
          "output_type": "execute_result",
          "data": {
            "text/plain": [
              "<keras.callbacks.History at 0x7fc34ea5c810>"
            ]
          },
          "metadata": {},
          "execution_count": 16
        }
      ]
    },
    {
      "cell_type": "code",
      "source": [
        "test_labels = []\n",
        "test_samples = []"
      ],
      "metadata": {
        "id": "2W8qda5EC-LK"
      },
      "execution_count": null,
      "outputs": []
    },
    {
      "cell_type": "code",
      "source": [
        "for i in range(10):\n",
        "  random_younger = randint(13, 64)\n",
        "  test_samples.append(random_younger)\n",
        "  test_labels.append(1)\n",
        "\n",
        "  random_older = randint(65, 100)\n",
        "  test_samples.append(random_older)\n",
        "  test_labels.append(0)\n",
        "\n",
        "for i in range(200):\n",
        "  random_younger = randint(13, 64)\n",
        "  test_samples.append(random_younger)\n",
        "  test_labels.append(0)\n",
        "\n",
        "  random_older = randint(65, 100)\n",
        "  test_samples.append(random_older)\n",
        "  test_labels.append(1)"
      ],
      "metadata": {
        "id": "jmsTndoXDCEL"
      },
      "execution_count": null,
      "outputs": []
    },
    {
      "cell_type": "code",
      "source": [
        "test_labels = np.array(test_labels)\n",
        "test_samples = np.array(test_samples)"
      ],
      "metadata": {
        "id": "vTqeCwsWDQNk"
      },
      "execution_count": null,
      "outputs": []
    },
    {
      "cell_type": "code",
      "source": [
        "test_labels, test_samples = shuffle(test_labels, test_samples)"
      ],
      "metadata": {
        "id": "QdLrUJsSDQvc"
      },
      "execution_count": null,
      "outputs": []
    },
    {
      "cell_type": "code",
      "source": [
        "scaled_test_samples = scaler.fit_transform(test_samples.reshape(-1, 1))"
      ],
      "metadata": {
        "id": "S2cgmAAcDXxT"
      },
      "execution_count": null,
      "outputs": []
    },
    {
      "cell_type": "code",
      "source": [
        "predictions = model.predict(x=scaled_test_samples, batch_size=10, verbose=0)"
      ],
      "metadata": {
        "id": "DN9gxaPhDkBU"
      },
      "execution_count": null,
      "outputs": []
    },
    {
      "cell_type": "code",
      "source": [
        "rounded_predictions = np.argmax(predictions, axis=-1)"
      ],
      "metadata": {
        "id": "CU-Frm52Dsix"
      },
      "execution_count": null,
      "outputs": []
    },
    {
      "cell_type": "code",
      "source": [
        "%matplotlib inline\n",
        "from sklearn.metrics import confusion_matrix\n",
        "import itertools\n",
        "import matplotlib.pyplot as plt"
      ],
      "metadata": {
        "id": "_igN7JK3D3y5"
      },
      "execution_count": null,
      "outputs": []
    },
    {
      "cell_type": "code",
      "source": [
        "from sklearn.metrics._plot.confusion_matrix import ConfusionMatrixDisplay\n",
        "cm_plot_labels = ['no_side_effects', 'had_side_effects']\n",
        "ConfusionMatrixDisplay.from_predictions(y_true=test_labels, y_pred=rounded_predictions, display_labels=cm_plot_labels)"
      ],
      "metadata": {
        "colab": {
          "base_uri": "https://localhost:8080/",
          "height": 301
        },
        "id": "z-lprstWENGy",
        "outputId": "a305ac05-52d1-43d4-9dc6-d7bcad56816f"
      },
      "execution_count": null,
      "outputs": [
        {
          "output_type": "execute_result",
          "data": {
            "text/plain": [
              "<sklearn.metrics._plot.confusion_matrix.ConfusionMatrixDisplay at 0x7fc34bfd0050>"
            ]
          },
          "metadata": {},
          "execution_count": 29
        },
        {
          "output_type": "display_data",
          "data": {
            "text/plain": [
              "<Figure size 432x288 with 2 Axes>"
            ],
            "image/png": "[encoded data removed]"
          },
          "metadata": {
            "needs_background": "light"
          }
        }
      ]
    },
    {
      "cell_type": "code",
      "source": [
        "import os.path\n",
        "if os.path.isfile('models/medical_trial_model.h5') is False:\n",
        "  model.save('models/medical_trial_model.h5')"
      ],
      "metadata": {
        "id": "AGLSceD5FzJM"
      },
      "execution_count": null,
      "outputs": []
    },
    {
      "cell_type": "code",
      "source": [
        "from tensorflow.keras.models import load_model\n",
        "new_model = load_model('models/medical_trial_model.h5')"
      ],
      "metadata": {
        "id": "63bsc4HwGAqZ"
      },
      "execution_count": null,
      "outputs": []
    },
    {
      "cell_type": "code",
      "source": [
        "new_model.summary()"
      ],
      "metadata": {
        "colab": {
          "base_uri": "https://localhost:8080/"
        },
        "id": "Vu624KIBGOFT",
        "outputId": "20d57214-5da9-4589-8584-2d0e624b89a0"
      },
      "execution_count": null,
      "outputs": [
        {
          "output_type": "stream",
          "name": "stdout",
          "text": [
            "Model: \"sequential\"\n",
            "_________________________________________________________________\n",
            " Layer (type)                Output Shape              Param #   \n",
            "=================================================================\n",
            " dense (Dense)               (None, 16)                32        \n",
            "                                                                 \n",
            " dense_1 (Dense)             (None, 32)                544       \n",
            "                                                                 \n",
            " dense_2 (Dense)             (None, 2)                 66        \n",
            "                                                                 \n",
            "=================================================================\n",
            "Total params: 642\n",
            "Trainable params: 642\n",
            "Non-trainable params: 0\n",
            "_________________________________________________________________\n"
          ]
        }
      ]
    },
    {
      "cell_type": "code",
      "source": [
        "new_model.get_weights()"
      ],
      "metadata": {
        "colab": {
          "base_uri": "https://localhost:8080/"
        },
        "id": "BBLF-pvOGQuD",
        "outputId": "73e2b562-9d4f-4f6e-e2a0-08cd40310ed2"
      },
      "execution_count": null,
      "outputs": [
        {
          "output_type": "execute_result",
          "data": {
            "text/plain": [
              "[array([[-0.45070052,  0.45687002, -0.17410052, -0.07135314,  0.5629671 ,\n",
              "          0.47869813,  0.42041758,  0.50390136, -0.31098226, -0.1361238 ,\n",
              "          0.64792085, -0.39675552, -0.46019417, -0.142977  ,  0.08576921,\n",
              "          0.65481484]], dtype=float32),\n",
              " array([ 0.        , -0.07992733,  0.        ,  0.        , -0.1391473 ,\n",
              "        -0.12961085,  0.26764807, -0.09617347,  0.        ,  0.        ,\n",
              "        -0.16860466,  0.        ,  0.        ,  0.        ,  0.27313295,\n",
              "        -0.15611695], dtype=float32),\n",
              " array([[-1.05056167e-02, -2.90249228e-01, -1.20610207e-01,\n",
              "         -6.16707802e-02, -3.30915213e-01,  2.32593417e-02,\n",
              "         -1.07597873e-01, -3.01076263e-01, -3.49073350e-01,\n",
              "          1.88262790e-01, -6.06247783e-03,  2.65490502e-01,\n",
              "          1.92362279e-01,  1.35257155e-01, -2.21980959e-01,\n",
              "         -2.08433867e-02, -6.57133460e-02,  1.55302256e-01,\n",
              "         -5.92209697e-02, -3.31902295e-01,  1.26224846e-01,\n",
              "          8.39203596e-03, -5.65338433e-02, -4.35221791e-02,\n",
              "         -2.23180965e-01, -1.76098973e-01,  2.72944003e-01,\n",
              "          1.36975735e-01,  5.31845093e-02, -1.65733039e-01,\n",
              "         -2.41271913e-01,  2.26455241e-01],\n",
              "        [-4.28162783e-01,  4.00670111e-01,  5.99475026e-01,\n",
              "          3.37602884e-01, -1.75900966e-01, -3.08655351e-01,\n",
              "          1.79885298e-01,  2.69882202e-01, -1.66808404e-02,\n",
              "          1.26539633e-01, -3.08798224e-01, -4.88314331e-02,\n",
              "         -2.30435178e-01, -3.82225186e-01,  4.34580445e-02,\n",
              "         -3.33221480e-02,  2.19475523e-01, -9.22009815e-03,\n",
              "         -1.42422929e-01,  2.32814476e-01, -1.80773303e-01,\n",
              "          4.73023299e-03,  1.39552206e-01,  5.21421194e-01,\n",
              "         -4.26425785e-01,  1.42427891e-01, -2.49649987e-01,\n",
              "         -3.70186746e-01, -6.26773685e-02, -4.18190837e-01,\n",
              "         -2.42800668e-01,  1.64635509e-01],\n",
              "        [-3.12208831e-01, -3.32710594e-01, -1.92379460e-01,\n",
              "          2.68224388e-01, -2.90673584e-01,  8.13442469e-02,\n",
              "          7.03197420e-02,  8.14711154e-02,  3.20268065e-01,\n",
              "         -3.11815858e-01, -3.49151820e-01, -1.23999983e-01,\n",
              "          3.49534750e-02,  1.28132403e-01, -2.89287686e-01,\n",
              "         -2.05971897e-01,  2.90634722e-01, -2.36264855e-01,\n",
              "         -3.23482364e-01,  9.05267000e-02,  3.98349166e-02,\n",
              "         -1.24795631e-01,  3.17190439e-01,  1.24792784e-01,\n",
              "          2.44104236e-01, -1.55427381e-01,  2.10739285e-01,\n",
              "          2.84311444e-01,  3.19642633e-01,  2.04733104e-01,\n",
              "          1.46170676e-01,  3.47003490e-01],\n",
              "        [ 2.77496606e-01, -3.32787633e-01, -2.24873573e-01,\n",
              "          3.48090827e-02,  3.22292894e-01,  2.58262724e-01,\n",
              "         -3.00540656e-01, -2.77989984e-01,  1.25840038e-01,\n",
              "          1.23078734e-01,  2.56499946e-02,  2.48632580e-01,\n",
              "          1.39968753e-01, -3.36586237e-01, -1.58236027e-02,\n",
              "          1.02390110e-01, -2.99205035e-01, -2.65669525e-01,\n",
              "          1.42692447e-01, -2.56240964e-01,  6.12250268e-02,\n",
              "         -1.07615069e-01, -3.15000325e-01, -6.24356568e-02,\n",
              "          5.60978651e-02,  1.50104553e-01,  3.14807445e-01,\n",
              "          8.15117359e-02, -7.97031522e-02, -1.82643697e-01,\n",
              "          2.65503228e-02,  2.93180555e-01],\n",
              "        [-6.99607283e-02,  2.86023110e-01,  6.24111533e-01,\n",
              "         -1.83713138e-01,  1.34032071e-02, -9.97154713e-02,\n",
              "         -2.18596458e-02, -4.34552252e-01, -2.53166646e-01,\n",
              "         -2.60566413e-01, -3.03282350e-01, -1.66613907e-01,\n",
              "          2.86653996e-01, -4.41392034e-01, -2.78116763e-01,\n",
              "         -2.42865235e-01, -2.38277465e-01,  7.41776824e-03,\n",
              "         -3.93424243e-01, -2.39649862e-01, -7.80353462e-03,\n",
              "         -3.04271400e-01,  4.55366708e-02,  4.27929431e-01,\n",
              "         -5.75106218e-02,  4.92246091e-01, -2.93956310e-01,\n",
              "          5.33763580e-02, -4.86975685e-02, -4.72414941e-02,\n",
              "          2.89167464e-01,  1.30263090e-01],\n",
              "        [-1.31306291e-01,  4.17534709e-01,  1.35251105e-01,\n",
              "          2.30009407e-01,  1.48142487e-01, -4.02711332e-02,\n",
              "          2.47924715e-01, -9.06164795e-02,  9.65692252e-02,\n",
              "         -4.90084231e-01,  7.45960185e-03, -3.52248758e-01,\n",
              "          2.88664341e-01, -4.15678322e-01, -2.94733495e-01,\n",
              "         -1.10097766e-01, -6.84820348e-03, -2.46210590e-01,\n",
              "         -2.84636885e-01, -1.77969515e-01, -4.84012328e-02,\n",
              "          1.72725350e-01, -4.23664629e-01, -3.78708355e-02,\n",
              "          8.66926908e-02,  5.50875008e-01,  2.48422891e-01,\n",
              "          2.03066990e-02,  2.80283362e-01, -4.78950202e-01,\n",
              "          2.06565231e-01,  8.12872648e-02],\n",
              "        [ 9.73270163e-02,  1.32727757e-01,  4.66631770e-01,\n",
              "         -3.10975194e-01, -2.61821210e-01, -1.06672242e-01,\n",
              "         -1.36170566e-01,  1.75267637e-01,  2.21537188e-01,\n",
              "          2.47674525e-01,  2.71341860e-01, -2.56536812e-01,\n",
              "         -3.23726237e-01,  1.69535235e-01,  3.71592045e-02,\n",
              "         -2.63484627e-01,  2.64760107e-01, -1.32131249e-01,\n",
              "          3.00790131e-01,  3.17657590e-01,  2.48284280e-01,\n",
              "         -1.84584826e-01,  1.67746082e-01,  4.74838495e-01,\n",
              "          3.29208016e-01,  2.31235355e-01,  1.00090660e-01,\n",
              "          2.21311357e-02, -3.12660307e-01,  3.24119896e-01,\n",
              "         -1.01295840e-02,  3.36918533e-02],\n",
              "        [-2.68814832e-01,  2.73399949e-01,  5.98638296e-01,\n",
              "         -3.24176103e-01, -1.33964717e-02,  8.12952816e-02,\n",
              "         -2.82040626e-01, -3.04416955e-01, -3.98530550e-02,\n",
              "          1.41110033e-01, -1.34147378e-02,  1.94368392e-01,\n",
              "          1.55094629e-02,  1.82180673e-01, -2.53681719e-01,\n",
              "         -1.29047602e-01, -3.76906618e-02,  3.02821755e-01,\n",
              "         -1.11924849e-01, -4.40743715e-01, -2.14953676e-01,\n",
              "          3.31006676e-01, -4.19098526e-01,  3.23232144e-01,\n",
              "         -1.84171185e-01,  3.42231482e-01, -1.50390461e-01,\n",
              "          1.63300615e-02, -2.26235408e-02, -4.48667377e-01,\n",
              "         -3.53939205e-01,  3.79655361e-02],\n",
              "        [-3.26847613e-01,  2.06926614e-01,  2.31938750e-01,\n",
              "          2.03272969e-01,  5.43065369e-02, -1.51292935e-01,\n",
              "         -1.83160514e-01,  1.91965431e-01, -3.23013365e-01,\n",
              "         -2.41602659e-02, -3.29515934e-02,  2.93332964e-01,\n",
              "          2.72738546e-01,  2.69371361e-01,  3.23428661e-01,\n",
              "         -3.31829220e-01, -3.10751408e-01, -5.48374355e-02,\n",
              "         -1.44997373e-01, -7.45853484e-02,  1.20016932e-03,\n",
              "         -1.81505814e-01, -2.31087461e-01, -1.44863263e-01,\n",
              "         -3.39668363e-01,  1.01391077e-01,  2.05987126e-01,\n",
              "         -9.68584418e-02,  4.24427986e-02,  3.26271504e-01,\n",
              "          1.77419931e-01, -2.70664364e-01],\n",
              "        [-1.89163402e-01,  2.68081516e-01,  7.42139518e-02,\n",
              "         -1.78328454e-01,  2.55114287e-01,  2.57500410e-02,\n",
              "          2.69849300e-02,  3.29915076e-01,  9.03561711e-03,\n",
              "          1.92157358e-01, -3.12440723e-01, -1.43020436e-01,\n",
              "         -1.14103481e-01, -3.40441763e-01,  1.99387819e-01,\n",
              "         -1.80881873e-01, -4.48746681e-02,  3.08711141e-01,\n",
              "          1.18447572e-01, -6.15824461e-02,  1.95144027e-01,\n",
              "         -2.21895814e-01, -2.96533108e-04, -2.90430725e-01,\n",
              "         -1.50300041e-01,  1.66637033e-01,  2.33332962e-01,\n",
              "         -3.16765606e-02, -2.03549132e-01,  2.03846544e-01,\n",
              "         -1.38891563e-01, -7.44790435e-02],\n",
              "        [-3.72824013e-01,  3.97158772e-01,  2.53418326e-01,\n",
              "         -2.40134776e-01,  2.17406183e-01, -2.30075762e-01,\n",
              "         -2.75491953e-01, -1.70887969e-02, -2.64845997e-01,\n",
              "         -5.65770781e-03, -4.64495301e-01, -1.64662167e-01,\n",
              "         -2.56497800e-01,  4.36525568e-02,  2.73961097e-01,\n",
              "         -8.77579153e-02, -2.69870877e-01, -7.36541450e-02,\n",
              "         -3.28037232e-01, -4.15798604e-01,  2.69179910e-01,\n",
              "         -1.73436895e-01, -2.85368353e-01,  2.36207083e-01,\n",
              "         -4.36405092e-01,  4.29653972e-01,  8.47621858e-02,\n",
              "          2.41490036e-01,  2.76347339e-01, -4.13187057e-01,\n",
              "          7.71373212e-02,  1.12776458e-02],\n",
              "        [-2.27842242e-01, -1.77665055e-02,  1.80884153e-01,\n",
              "         -1.36319518e-01,  2.32621461e-01, -3.03191453e-01,\n",
              "          2.26143211e-01, -1.71540111e-01, -1.66478753e-03,\n",
              "          3.19012552e-01, -6.62583113e-02,  3.43988389e-01,\n",
              "         -1.63032100e-01,  7.57607222e-02,  2.89176911e-01,\n",
              "          1.89455301e-01,  1.48363918e-01, -9.36782062e-02,\n",
              "          1.83733553e-01, -3.28564107e-01,  3.28400344e-01,\n",
              "          9.83578563e-02,  3.52371901e-01,  1.10053271e-01,\n",
              "          1.15564972e-01, -2.21227288e-01, -2.30065554e-01,\n",
              "          1.78118557e-01,  2.17358768e-02, -7.16919601e-02,\n",
              "          1.59214735e-02, -1.14569038e-01],\n",
              "        [ 1.12104118e-01,  2.54726976e-01, -2.57526606e-01,\n",
              "         -3.29065323e-01, -5.55021763e-02,  2.64920145e-01,\n",
              "          3.27885151e-03, -5.41477501e-02, -3.32566112e-01,\n",
              "          3.16330582e-01,  1.44159794e-02, -6.33405447e-02,\n",
              "          2.17110962e-01, -3.21647376e-01,  1.32741928e-01,\n",
              "          5.41695654e-02, -3.00875068e-01,  9.74634886e-02,\n",
              "          2.09795266e-01,  2.53983706e-01, -7.61868358e-02,\n",
              "          1.40452594e-01, -3.48798871e-01,  6.55207038e-03,\n",
              "          7.23245740e-02,  1.77627534e-01,  1.19181335e-01,\n",
              "         -5.50973117e-02, -2.75525063e-01,  9.77319777e-02,\n",
              "         -2.01879859e-01,  2.02015638e-02],\n",
              "        [ 2.33546406e-01, -2.45936975e-01, -2.88992673e-01,\n",
              "          2.34044641e-01,  3.04339856e-01, -2.19952345e-01,\n",
              "          3.07690531e-01,  2.08805531e-01,  2.96507031e-01,\n",
              "          2.32902020e-01, -9.92756486e-02,  2.09966689e-01,\n",
              "         -1.42383352e-01, -1.28552854e-01,  1.23301685e-01,\n",
              "         -3.50809276e-01,  3.03252131e-01, -6.30208254e-02,\n",
              "          1.98750824e-01, -1.32856309e-01,  1.58074349e-01,\n",
              "          5.06418049e-02, -2.07545236e-01, -1.54830828e-01,\n",
              "         -3.13840508e-02, -3.30156326e-01, -2.55442530e-01,\n",
              "         -1.56033278e-01, -2.95347989e-01,  2.35131055e-01,\n",
              "         -1.59313142e-01,  1.43995464e-01],\n",
              "        [ 4.97308105e-01,  3.13417971e-01, -4.14246619e-02,\n",
              "          9.05494690e-02,  1.81460112e-01, -3.21091950e-01,\n",
              "         -2.38934278e-01,  1.16044106e-02,  2.61613969e-02,\n",
              "         -8.06010664e-02, -9.13364664e-02, -3.21925133e-01,\n",
              "          1.66478530e-01,  3.17403585e-01, -2.70589679e-01,\n",
              "          2.84855634e-01, -3.61492902e-01, -1.30092204e-01,\n",
              "          4.64729756e-01,  4.42428924e-02, -2.81662256e-01,\n",
              "         -1.65410593e-01,  3.40589345e-01,  2.33955681e-01,\n",
              "          1.51134446e-01,  1.63360797e-02, -6.39349222e-02,\n",
              "         -1.50392383e-01, -4.31174785e-01,  4.23553228e-01,\n",
              "          9.14243758e-02, -3.28058094e-01],\n",
              "        [-1.42772242e-01,  5.04685819e-01,  3.37126911e-01,\n",
              "          1.95124298e-01, -2.51203805e-01,  2.85158902e-01,\n",
              "          2.64683813e-01, -4.43971157e-01, -1.02785148e-01,\n",
              "          2.42989752e-02, -5.00473985e-03, -2.30188638e-01,\n",
              "          2.95316905e-01, -3.94245446e-01, -7.07601011e-02,\n",
              "         -2.05964819e-01,  5.18118329e-02, -3.15316826e-01,\n",
              "         -4.12052065e-01, -2.70896167e-01,  4.81845699e-02,\n",
              "          1.17375612e-01, -1.41256288e-01,  2.69248962e-01,\n",
              "         -3.12019289e-01,  3.90074015e-01, -1.15401700e-01,\n",
              "          1.14854321e-01,  2.87591428e-01, -4.20638323e-02,\n",
              "          3.94060165e-02, -2.56108284e-01]], dtype=float32),\n",
              " array([ 0.2163544 , -0.04909768, -0.04314428,  0.        ,  0.        ,\n",
              "         0.        ,  0.        ,  0.22781871, -0.05430026,  0.01791633,\n",
              "         0.21063115,  0.        , -0.02902728,  0.21489741,  0.        ,\n",
              "        -0.00820423, -0.00716088, -0.00051126,  0.21515383,  0.22972144,\n",
              "        -0.04718241, -0.00031165,  0.11918151, -0.04509297,  0.19473355,\n",
              "        -0.04454704, -0.01610313, -0.04672406, -0.04566388,  0.228223  ,\n",
              "        -0.04526349,  0.        ], dtype=float32),\n",
              " array([[ 0.39353526, -0.6391306 ],\n",
              "        [-0.57155114,  0.06840444],\n",
              "        [-0.48687366,  0.32687747],\n",
              "        [ 0.17844597,  0.32217267],\n",
              "        [ 0.08824691, -0.12514272],\n",
              "        [-0.362669  ,  0.39079478],\n",
              "        [-0.3375888 , -0.05675641],\n",
              "        [ 0.8303587 , -0.47535312],\n",
              "        [ 0.01833775,  0.22359522],\n",
              "        [ 0.27738327,  0.19558208],\n",
              "        [ 0.8386179 , -0.41859525],\n",
              "        [-0.13167107, -0.40401572],\n",
              "        [ 0.2071528 , -0.03220055],\n",
              "        [ 0.5165411 , -0.53221434],\n",
              "        [ 0.38284627, -0.17023438],\n",
              "        [ 0.06196244,  0.20424652],\n",
              "        [-0.41344908,  0.38077226],\n",
              "        [-0.4029642 ,  0.13623902],\n",
              "        [ 0.81669444, -0.69855976],\n",
              "        [ 0.40096617, -0.53405046],\n",
              "        [ 0.14765927, -0.15767984],\n",
              "        [-0.12531932,  0.08405428],\n",
              "        [ 0.4887766 , -0.663971  ],\n",
              "        [-0.17083393,  0.5172699 ],\n",
              "        [ 0.53964007, -0.79256785],\n",
              "        [-0.2589428 ,  0.5376758 ],\n",
              "        [-0.34140825,  0.36334127],\n",
              "        [ 0.10045741, -0.33937472],\n",
              "        [ 0.32215798, -0.30955565],\n",
              "        [ 0.5669114 , -0.3567952 ],\n",
              "        [ 0.1606662 , -0.31374988],\n",
              "        [ 0.29007682, -0.14703369]], dtype=float32),\n",
              " array([ 0.03582457, -0.03582457], dtype=float32)]"
            ]
          },
          "metadata": {},
          "execution_count": 33
        }
      ]
    },
    {
      "cell_type": "code",
      "source": [
        "new_model.optimizer"
      ],
      "metadata": {
        "colab": {
          "base_uri": "https://localhost:8080/"
        },
        "id": "aK72bX3EGTxA",
        "outputId": "8389152f-c4d4-4849-ba6d-f84e76ae2633"
      },
      "execution_count": null,
      "outputs": [
        {
          "output_type": "execute_result",
          "data": {
            "text/plain": [
              "<keras.optimizer_v2.adam.Adam at 0x7fc34bf1f410>"
            ]
          },
          "metadata": {},
          "execution_count": 34
        }
      ]
    },
    {
      "cell_type": "code",
      "source": [
        "json_string = model.to_json()\n",
        "json_string"
      ],
      "metadata": {
        "colab": {
          "base_uri": "https://localhost:8080/",
          "height": 192
        },
        "id": "dOv1w-MBGYRY",
        "outputId": "d4d7ef37-8fa7-4b72-d3dd-52ef97cc482f"
      },
      "execution_count": null,
      "outputs": [
        {
          "output_type": "execute_result",
          "data": {
            "text/plain": [
              "'{\"class_name\": \"Sequential\", \"config\": {\"name\": \"sequential\", \"layers\": [{\"class_name\": \"InputLayer\", \"config\": {\"batch_input_shape\": [null, 1], \"dtype\": \"float32\", \"sparse\": false, \"ragged\": false, \"name\": \"dense_input\"}}, {\"class_name\": \"Dense\", \"config\": {\"name\": \"dense\", \"trainable\": true, \"batch_input_shape\": [null, 1], \"dtype\": \"float32\", \"units\": 16, \"activation\": \"relu\", \"use_bias\": true, \"kernel_initializer\": {\"class_name\": \"GlorotUniform\", \"config\": {\"seed\": null}}, \"bias_initializer\": {\"class_name\": \"Zeros\", \"config\": {}}, \"kernel_regularizer\": null, \"bias_regularizer\": null, \"activity_regularizer\": null, \"kernel_constraint\": null, \"bias_constraint\": null}}, {\"class_name\": \"Dense\", \"config\": {\"name\": \"dense_1\", \"trainable\": true, \"dtype\": \"float32\", \"units\": 32, \"activation\": \"relu\", \"use_bias\": true, \"kernel_initializer\": {\"class_name\": \"GlorotUniform\", \"config\": {\"seed\": null}}, \"bias_initializer\": {\"class_name\": \"Zeros\", \"config\": {}}, \"kernel_regularizer\": null, \"bias_regularizer\": null, \"activity_regularizer\": null, \"kernel_constraint\": null, \"bias_constraint\": null}}, {\"class_name\": \"Dense\", \"config\": {\"name\": \"dense_2\", \"trainable\": true, \"dtype\": \"float32\", \"units\": 2, \"activation\": \"softmax\", \"use_bias\": true, \"kernel_initializer\": {\"class_name\": \"GlorotUniform\", \"config\": {\"seed\": null}}, \"bias_initializer\": {\"class_name\": \"Zeros\", \"config\": {}}, \"kernel_regularizer\": null, \"bias_regularizer\": null, \"activity_regularizer\": null, \"kernel_constraint\": null, \"bias_constraint\": null}}]}, \"keras_version\": \"2.8.0\", \"backend\": \"tensorflow\"}'"
            ],
            "application/vnd.google.colaboratory.intrinsic+json": {
              "type": "string"
            }
          },
          "metadata": {},
          "execution_count": 35
        }
      ]
    },
    {
      "cell_type": "code",
      "source": [
        "from tensorflow.keras.models import model_from_json\n",
        "model_architecture = model_from_json(json_string)"
      ],
      "metadata": {
        "id": "wp8OEXDdGemh"
      },
      "execution_count": null,
      "outputs": []
    },
    {
      "cell_type": "code",
      "source": [
        "model_architecture.summary()"
      ],
      "metadata": {
        "colab": {
          "base_uri": "https://localhost:8080/"
        },
        "id": "yOsiF3INGnQL",
        "outputId": "b4bb9fb9-b0b6-44f0-be3d-4e78fdf007ea"
      },
      "execution_count": null,
      "outputs": [
        {
          "output_type": "stream",
          "name": "stdout",
          "text": [
            "Model: \"sequential\"\n",
            "_________________________________________________________________\n",
            " Layer (type)                Output Shape              Param #   \n",
            "=================================================================\n",
            " dense (Dense)               (None, 16)                32        \n",
            "                                                                 \n",
            " dense_1 (Dense)             (None, 32)                544       \n",
            "                                                                 \n",
            " dense_2 (Dense)             (None, 2)                 66        \n",
            "                                                                 \n",
            "=================================================================\n",
            "Total params: 642\n",
            "Trainable params: 642\n",
            "Non-trainable params: 0\n",
            "_________________________________________________________________\n"
          ]
        }
      ]
    },
    {
      "cell_type": "code",
      "source": [
        "import os.path\n",
        "if os.path.isfile('models/my_model_weights.h5') is False:\n",
        "  model.save_weights('models/my_model_weigths.h5')"
      ],
      "metadata": {
        "id": "_pFb6VtdGwqD"
      },
      "execution_count": null,
      "outputs": []
    },
    {
      "cell_type": "code",
      "source": [
        "model2 = Sequential([\n",
        "  Dense(units = 16, input_shape = (1, ), activation = 'relu'),\n",
        "  Dense(units = 32, activation = 'relu'),\n",
        "  Dense(units = 2, activation = 'softmax')\n",
        "])"
      ],
      "metadata": {
        "id": "-fQTCIZiHGUY"
      },
      "execution_count": null,
      "outputs": []
    },
    {
      "cell_type": "code",
      "source": [
        "model2.load_weights('models/my_model_weigths.h5')"
      ],
      "metadata": {
        "id": "SNzASyx9HMrk"
      },
      "execution_count": null,
      "outputs": []
    },
    {
      "cell_type": "code",
      "source": [
        "model2.get_weights()"
      ],
      "metadata": {
        "colab": {
          "base_uri": "https://localhost:8080/"
        },
        "id": "G7p1Rkf7HRyz",
        "outputId": "8b8eec0e-2ed6-4d0f-eab9-21e9d2b19558"
      },
      "execution_count": null,
      "outputs": [
        {
          "output_type": "execute_result",
          "data": {
            "text/plain": [
              "[array([[-0.45070052,  0.45687002, -0.17410052, -0.07135314,  0.5629671 ,\n",
              "          0.47869813,  0.42041758,  0.50390136, -0.31098226, -0.1361238 ,\n",
              "          0.64792085, -0.39675552, -0.46019417, -0.142977  ,  0.08576921,\n",
              "          0.65481484]], dtype=float32),\n",
              " array([ 0.        , -0.07992733,  0.        ,  0.        , -0.1391473 ,\n",
              "        -0.12961085,  0.26764807, -0.09617347,  0.        ,  0.        ,\n",
              "        -0.16860466,  0.        ,  0.        ,  0.        ,  0.27313295,\n",
              "        -0.15611695], dtype=float32),\n",
              " array([[-1.05056167e-02, -2.90249228e-01, -1.20610207e-01,\n",
              "         -6.16707802e-02, -3.30915213e-01,  2.32593417e-02,\n",
              "         -1.07597873e-01, -3.01076263e-01, -3.49073350e-01,\n",
              "          1.88262790e-01, -6.06247783e-03,  2.65490502e-01,\n",
              "          1.92362279e-01,  1.35257155e-01, -2.21980959e-01,\n",
              "         -2.08433867e-02, -6.57133460e-02,  1.55302256e-01,\n",
              "         -5.92209697e-02, -3.31902295e-01,  1.26224846e-01,\n",
              "          8.39203596e-03, -5.65338433e-02, -4.35221791e-02,\n",
              "         -2.23180965e-01, -1.76098973e-01,  2.72944003e-01,\n",
              "          1.36975735e-01,  5.31845093e-02, -1.65733039e-01,\n",
              "         -2.41271913e-01,  2.26455241e-01],\n",
              "        [-4.28162783e-01,  4.00670111e-01,  5.99475026e-01,\n",
              "          3.37602884e-01, -1.75900966e-01, -3.08655351e-01,\n",
              "          1.79885298e-01,  2.69882202e-01, -1.66808404e-02,\n",
              "          1.26539633e-01, -3.08798224e-01, -4.88314331e-02,\n",
              "         -2.30435178e-01, -3.82225186e-01,  4.34580445e-02,\n",
              "         -3.33221480e-02,  2.19475523e-01, -9.22009815e-03,\n",
              "         -1.42422929e-01,  2.32814476e-01, -1.80773303e-01,\n",
              "          4.73023299e-03,  1.39552206e-01,  5.21421194e-01,\n",
              "         -4.26425785e-01,  1.42427891e-01, -2.49649987e-01,\n",
              "         -3.70186746e-01, -6.26773685e-02, -4.18190837e-01,\n",
              "         -2.42800668e-01,  1.64635509e-01],\n",
              "        [-3.12208831e-01, -3.32710594e-01, -1.92379460e-01,\n",
              "          2.68224388e-01, -2.90673584e-01,  8.13442469e-02,\n",
              "          7.03197420e-02,  8.14711154e-02,  3.20268065e-01,\n",
              "         -3.11815858e-01, -3.49151820e-01, -1.23999983e-01,\n",
              "          3.49534750e-02,  1.28132403e-01, -2.89287686e-01,\n",
              "         -2.05971897e-01,  2.90634722e-01, -2.36264855e-01,\n",
              "         -3.23482364e-01,  9.05267000e-02,  3.98349166e-02,\n",
              "         -1.24795631e-01,  3.17190439e-01,  1.24792784e-01,\n",
              "          2.44104236e-01, -1.55427381e-01,  2.10739285e-01,\n",
              "          2.84311444e-01,  3.19642633e-01,  2.04733104e-01,\n",
              "          1.46170676e-01,  3.47003490e-01],\n",
              "        [ 2.77496606e-01, -3.32787633e-01, -2.24873573e-01,\n",
              "          3.48090827e-02,  3.22292894e-01,  2.58262724e-01,\n",
              "         -3.00540656e-01, -2.77989984e-01,  1.25840038e-01,\n",
              "          1.23078734e-01,  2.56499946e-02,  2.48632580e-01,\n",
              "          1.39968753e-01, -3.36586237e-01, -1.58236027e-02,\n",
              "          1.02390110e-01, -2.99205035e-01, -2.65669525e-01,\n",
              "          1.42692447e-01, -2.56240964e-01,  6.12250268e-02,\n",
              "         -1.07615069e-01, -3.15000325e-01, -6.24356568e-02,\n",
              "          5.60978651e-02,  1.50104553e-01,  3.14807445e-01,\n",
              "          8.15117359e-02, -7.97031522e-02, -1.82643697e-01,\n",
              "          2.65503228e-02,  2.93180555e-01],\n",
              "        [-6.99607283e-02,  2.86023110e-01,  6.24111533e-01,\n",
              "         -1.83713138e-01,  1.34032071e-02, -9.97154713e-02,\n",
              "         -2.18596458e-02, -4.34552252e-01, -2.53166646e-01,\n",
              "         -2.60566413e-01, -3.03282350e-01, -1.66613907e-01,\n",
              "          2.86653996e-01, -4.41392034e-01, -2.78116763e-01,\n",
              "         -2.42865235e-01, -2.38277465e-01,  7.41776824e-03,\n",
              "         -3.93424243e-01, -2.39649862e-01, -7.80353462e-03,\n",
              "         -3.04271400e-01,  4.55366708e-02,  4.27929431e-01,\n",
              "         -5.75106218e-02,  4.92246091e-01, -2.93956310e-01,\n",
              "          5.33763580e-02, -4.86975685e-02, -4.72414941e-02,\n",
              "          2.89167464e-01,  1.30263090e-01],\n",
              "        [-1.31306291e-01,  4.17534709e-01,  1.35251105e-01,\n",
              "          2.30009407e-01,  1.48142487e-01, -4.02711332e-02,\n",
              "          2.47924715e-01, -9.06164795e-02,  9.65692252e-02,\n",
              "         -4.90084231e-01,  7.45960185e-03, -3.52248758e-01,\n",
              "          2.88664341e-01, -4.15678322e-01, -2.94733495e-01,\n",
              "         -1.10097766e-01, -6.84820348e-03, -2.46210590e-01,\n",
              "         -2.84636885e-01, -1.77969515e-01, -4.84012328e-02,\n",
              "          1.72725350e-01, -4.23664629e-01, -3.78708355e-02,\n",
              "          8.66926908e-02,  5.50875008e-01,  2.48422891e-01,\n",
              "          2.03066990e-02,  2.80283362e-01, -4.78950202e-01,\n",
              "          2.06565231e-01,  8.12872648e-02],\n",
              "        [ 9.73270163e-02,  1.32727757e-01,  4.66631770e-01,\n",
              "         -3.10975194e-01, -2.61821210e-01, -1.06672242e-01,\n",
              "         -1.36170566e-01,  1.75267637e-01,  2.21537188e-01,\n",
              "          2.47674525e-01,  2.71341860e-01, -2.56536812e-01,\n",
              "         -3.23726237e-01,  1.69535235e-01,  3.71592045e-02,\n",
              "         -2.63484627e-01,  2.64760107e-01, -1.32131249e-01,\n",
              "          3.00790131e-01,  3.17657590e-01,  2.48284280e-01,\n",
              "         -1.84584826e-01,  1.67746082e-01,  4.74838495e-01,\n",
              "          3.29208016e-01,  2.31235355e-01,  1.00090660e-01,\n",
              "          2.21311357e-02, -3.12660307e-01,  3.24119896e-01,\n",
              "         -1.01295840e-02,  3.36918533e-02],\n",
              "        [-2.68814832e-01,  2.73399949e-01,  5.98638296e-01,\n",
              "         -3.24176103e-01, -1.33964717e-02,  8.12952816e-02,\n",
              "         -2.82040626e-01, -3.04416955e-01, -3.98530550e-02,\n",
              "          1.41110033e-01, -1.34147378e-02,  1.94368392e-01,\n",
              "          1.55094629e-02,  1.82180673e-01, -2.53681719e-01,\n",
              "         -1.29047602e-01, -3.76906618e-02,  3.02821755e-01,\n",
              "         -1.11924849e-01, -4.40743715e-01, -2.14953676e-01,\n",
              "          3.31006676e-01, -4.19098526e-01,  3.23232144e-01,\n",
              "         -1.84171185e-01,  3.42231482e-01, -1.50390461e-01,\n",
              "          1.63300615e-02, -2.26235408e-02, -4.48667377e-01,\n",
              "         -3.53939205e-01,  3.79655361e-02],\n",
              "        [-3.26847613e-01,  2.06926614e-01,  2.31938750e-01,\n",
              "          2.03272969e-01,  5.43065369e-02, -1.51292935e-01,\n",
              "         -1.83160514e-01,  1.91965431e-01, -3.23013365e-01,\n",
              "         -2.41602659e-02, -3.29515934e-02,  2.93332964e-01,\n",
              "          2.72738546e-01,  2.69371361e-01,  3.23428661e-01,\n",
              "         -3.31829220e-01, -3.10751408e-01, -5.48374355e-02,\n",
              "         -1.44997373e-01, -7.45853484e-02,  1.20016932e-03,\n",
              "         -1.81505814e-01, -2.31087461e-01, -1.44863263e-01,\n",
              "         -3.39668363e-01,  1.01391077e-01,  2.05987126e-01,\n",
              "         -9.68584418e-02,  4.24427986e-02,  3.26271504e-01,\n",
              "          1.77419931e-01, -2.70664364e-01],\n",
              "        [-1.89163402e-01,  2.68081516e-01,  7.42139518e-02,\n",
              "         -1.78328454e-01,  2.55114287e-01,  2.57500410e-02,\n",
              "          2.69849300e-02,  3.29915076e-01,  9.03561711e-03,\n",
              "          1.92157358e-01, -3.12440723e-01, -1.43020436e-01,\n",
              "         -1.14103481e-01, -3.40441763e-01,  1.99387819e-01,\n",
              "         -1.80881873e-01, -4.48746681e-02,  3.08711141e-01,\n",
              "          1.18447572e-01, -6.15824461e-02,  1.95144027e-01,\n",
              "         -2.21895814e-01, -2.96533108e-04, -2.90430725e-01,\n",
              "         -1.50300041e-01,  1.66637033e-01,  2.33332962e-01,\n",
              "         -3.16765606e-02, -2.03549132e-01,  2.03846544e-01,\n",
              "         -1.38891563e-01, -7.44790435e-02],\n",
              "        [-3.72824013e-01,  3.97158772e-01,  2.53418326e-01,\n",
              "         -2.40134776e-01,  2.17406183e-01, -2.30075762e-01,\n",
              "         -2.75491953e-01, -1.70887969e-02, -2.64845997e-01,\n",
              "         -5.65770781e-03, -4.64495301e-01, -1.64662167e-01,\n",
              "         -2.56497800e-01,  4.36525568e-02,  2.73961097e-01,\n",
              "         -8.77579153e-02, -2.69870877e-01, -7.36541450e-02,\n",
              "         -3.28037232e-01, -4.15798604e-01,  2.69179910e-01,\n",
              "         -1.73436895e-01, -2.85368353e-01,  2.36207083e-01,\n",
              "         -4.36405092e-01,  4.29653972e-01,  8.47621858e-02,\n",
              "          2.41490036e-01,  2.76347339e-01, -4.13187057e-01,\n",
              "          7.71373212e-02,  1.12776458e-02],\n",
              "        [-2.27842242e-01, -1.77665055e-02,  1.80884153e-01,\n",
              "         -1.36319518e-01,  2.32621461e-01, -3.03191453e-01,\n",
              "          2.26143211e-01, -1.71540111e-01, -1.66478753e-03,\n",
              "          3.19012552e-01, -6.62583113e-02,  3.43988389e-01,\n",
              "         -1.63032100e-01,  7.57607222e-02,  2.89176911e-01,\n",
              "          1.89455301e-01,  1.48363918e-01, -9.36782062e-02,\n",
              "          1.83733553e-01, -3.28564107e-01,  3.28400344e-01,\n",
              "          9.83578563e-02,  3.52371901e-01,  1.10053271e-01,\n",
              "          1.15564972e-01, -2.21227288e-01, -2.30065554e-01,\n",
              "          1.78118557e-01,  2.17358768e-02, -7.16919601e-02,\n",
              "          1.59214735e-02, -1.14569038e-01],\n",
              "        [ 1.12104118e-01,  2.54726976e-01, -2.57526606e-01,\n",
              "         -3.29065323e-01, -5.55021763e-02,  2.64920145e-01,\n",
              "          3.27885151e-03, -5.41477501e-02, -3.32566112e-01,\n",
              "          3.16330582e-01,  1.44159794e-02, -6.33405447e-02,\n",
              "          2.17110962e-01, -3.21647376e-01,  1.32741928e-01,\n",
              "          5.41695654e-02, -3.00875068e-01,  9.74634886e-02,\n",
              "          2.09795266e-01,  2.53983706e-01, -7.61868358e-02,\n",
              "          1.40452594e-01, -3.48798871e-01,  6.55207038e-03,\n",
              "          7.23245740e-02,  1.77627534e-01,  1.19181335e-01,\n",
              "         -5.50973117e-02, -2.75525063e-01,  9.77319777e-02,\n",
              "         -2.01879859e-01,  2.02015638e-02],\n",
              "        [ 2.33546406e-01, -2.45936975e-01, -2.88992673e-01,\n",
              "          2.34044641e-01,  3.04339856e-01, -2.19952345e-01,\n",
              "          3.07690531e-01,  2.08805531e-01,  2.96507031e-01,\n",
              "          2.32902020e-01, -9.92756486e-02,  2.09966689e-01,\n",
              "         -1.42383352e-01, -1.28552854e-01,  1.23301685e-01,\n",
              "         -3.50809276e-01,  3.03252131e-01, -6.30208254e-02,\n",
              "          1.98750824e-01, -1.32856309e-01,  1.58074349e-01,\n",
              "          5.06418049e-02, -2.07545236e-01, -1.54830828e-01,\n",
              "         -3.13840508e-02, -3.30156326e-01, -2.55442530e-01,\n",
              "         -1.56033278e-01, -2.95347989e-01,  2.35131055e-01,\n",
              "         -1.59313142e-01,  1.43995464e-01],\n",
              "        [ 4.97308105e-01,  3.13417971e-01, -4.14246619e-02,\n",
              "          9.05494690e-02,  1.81460112e-01, -3.21091950e-01,\n",
              "         -2.38934278e-01,  1.16044106e-02,  2.61613969e-02,\n",
              "         -8.06010664e-02, -9.13364664e-02, -3.21925133e-01,\n",
              "          1.66478530e-01,  3.17403585e-01, -2.70589679e-01,\n",
              "          2.84855634e-01, -3.61492902e-01, -1.30092204e-01,\n",
              "          4.64729756e-01,  4.42428924e-02, -2.81662256e-01,\n",
              "         -1.65410593e-01,  3.40589345e-01,  2.33955681e-01,\n",
              "          1.51134446e-01,  1.63360797e-02, -6.39349222e-02,\n",
              "         -1.50392383e-01, -4.31174785e-01,  4.23553228e-01,\n",
              "          9.14243758e-02, -3.28058094e-01],\n",
              "        [-1.42772242e-01,  5.04685819e-01,  3.37126911e-01,\n",
              "          1.95124298e-01, -2.51203805e-01,  2.85158902e-01,\n",
              "          2.64683813e-01, -4.43971157e-01, -1.02785148e-01,\n",
              "          2.42989752e-02, -5.00473985e-03, -2.30188638e-01,\n",
              "          2.95316905e-01, -3.94245446e-01, -7.07601011e-02,\n",
              "         -2.05964819e-01,  5.18118329e-02, -3.15316826e-01,\n",
              "         -4.12052065e-01, -2.70896167e-01,  4.81845699e-02,\n",
              "          1.17375612e-01, -1.41256288e-01,  2.69248962e-01,\n",
              "         -3.12019289e-01,  3.90074015e-01, -1.15401700e-01,\n",
              "          1.14854321e-01,  2.87591428e-01, -4.20638323e-02,\n",
              "          3.94060165e-02, -2.56108284e-01]], dtype=float32),\n",
              " array([ 0.2163544 , -0.04909768, -0.04314428,  0.        ,  0.        ,\n",
              "         0.        ,  0.        ,  0.22781871, -0.05430026,  0.01791633,\n",
              "         0.21063115,  0.        , -0.02902728,  0.21489741,  0.        ,\n",
              "        -0.00820423, -0.00716088, -0.00051126,  0.21515383,  0.22972144,\n",
              "        -0.04718241, -0.00031165,  0.11918151, -0.04509297,  0.19473355,\n",
              "        -0.04454704, -0.01610313, -0.04672406, -0.04566388,  0.228223  ,\n",
              "        -0.04526349,  0.        ], dtype=float32),\n",
              " array([[ 0.39353526, -0.6391306 ],\n",
              "        [-0.57155114,  0.06840444],\n",
              "        [-0.48687366,  0.32687747],\n",
              "        [ 0.17844597,  0.32217267],\n",
              "        [ 0.08824691, -0.12514272],\n",
              "        [-0.362669  ,  0.39079478],\n",
              "        [-0.3375888 , -0.05675641],\n",
              "        [ 0.8303587 , -0.47535312],\n",
              "        [ 0.01833775,  0.22359522],\n",
              "        [ 0.27738327,  0.19558208],\n",
              "        [ 0.8386179 , -0.41859525],\n",
              "        [-0.13167107, -0.40401572],\n",
              "        [ 0.2071528 , -0.03220055],\n",
              "        [ 0.5165411 , -0.53221434],\n",
              "        [ 0.38284627, -0.17023438],\n",
              "        [ 0.06196244,  0.20424652],\n",
              "        [-0.41344908,  0.38077226],\n",
              "        [-0.4029642 ,  0.13623902],\n",
              "        [ 0.81669444, -0.69855976],\n",
              "        [ 0.40096617, -0.53405046],\n",
              "        [ 0.14765927, -0.15767984],\n",
              "        [-0.12531932,  0.08405428],\n",
              "        [ 0.4887766 , -0.663971  ],\n",
              "        [-0.17083393,  0.5172699 ],\n",
              "        [ 0.53964007, -0.79256785],\n",
              "        [-0.2589428 ,  0.5376758 ],\n",
              "        [-0.34140825,  0.36334127],\n",
              "        [ 0.10045741, -0.33937472],\n",
              "        [ 0.32215798, -0.30955565],\n",
              "        [ 0.5669114 , -0.3567952 ],\n",
              "        [ 0.1606662 , -0.31374988],\n",
              "        [ 0.29007682, -0.14703369]], dtype=float32),\n",
              " array([ 0.03582457, -0.03582457], dtype=float32)]"
            ]
          },
          "metadata": {},
          "execution_count": 41
        }
      ]
    }
  ]
}